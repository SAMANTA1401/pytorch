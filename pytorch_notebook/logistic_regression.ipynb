{
 "cells": [
  {
   "cell_type": "code",
   "execution_count": 10,
   "metadata": {},
   "outputs": [],
   "source": [
    "import torch\n",
    "import torch.nn as nn\n",
    "import numpy as np\n",
    "from sklearn import datasets\n",
    "from sklearn.preprocessing import StandardScaler\n",
    "from sklearn.model_selection import train_test_split"
   ]
  },
  {
   "cell_type": "code",
   "execution_count": 20,
   "metadata": {},
   "outputs": [],
   "source": [
    "# 0) Prepare data\n",
    "bc = datasets.load_breast_cancer() # sk learn dataset\n",
    "X, y = bc.data, bc.target\n",
    "\n",
    "n_samples, n_features = X.shape\n",
    "\n",
    "X_train, X_test, y_train, y_test = train_test_split(X, y, test_size=0.2, random_state=1234)"
   ]
  },
  {
   "cell_type": "code",
   "execution_count": 21,
   "metadata": {},
   "outputs": [
    {
     "data": {
      "text/plain": [
       "(569, 30)"
      ]
     },
     "execution_count": 21,
     "metadata": {},
     "output_type": "execute_result"
    }
   ],
   "source": [
    "X.shape"
   ]
  },
  {
   "cell_type": "code",
   "execution_count": 22,
   "metadata": {},
   "outputs": [
    {
     "data": {
      "text/plain": [
       "array([[1.288e+01, 1.822e+01, 8.445e+01, 4.931e+02, 1.218e-01, 1.661e-01,\n",
       "        4.825e-02, 5.303e-02, 1.709e-01, 7.253e-02, 4.426e-01, 1.169e+00,\n",
       "        3.176e+00, 3.437e+01, 5.273e-03, 2.329e-02, 1.405e-02, 1.244e-02,\n",
       "        1.816e-02, 3.299e-03, 1.505e+01, 2.437e+01, 9.931e+01, 6.747e+02,\n",
       "        1.456e-01, 2.961e-01, 1.246e-01, 1.096e-01, 2.582e-01, 8.893e-02],\n",
       "       [1.113e+01, 2.244e+01, 7.149e+01, 3.784e+02, 9.566e-02, 8.194e-02,\n",
       "        4.824e-02, 2.257e-02, 2.030e-01, 6.552e-02, 2.800e-01, 1.467e+00,\n",
       "        1.994e+00, 1.785e+01, 3.495e-03, 3.051e-02, 3.445e-02, 1.024e-02,\n",
       "        2.912e-02, 4.723e-03, 1.202e+01, 2.826e+01, 7.780e+01, 4.366e+02,\n",
       "        1.087e-01, 1.782e-01, 1.564e-01, 6.413e-02, 3.169e-01, 8.032e-02],\n",
       "       [1.263e+01, 2.076e+01, 8.215e+01, 4.804e+02, 9.933e-02, 1.209e-01,\n",
       "        1.065e-01, 6.021e-02, 1.735e-01, 7.070e-02, 3.424e-01, 1.803e+00,\n",
       "        2.711e+00, 2.048e+01, 1.291e-02, 4.042e-02, 5.101e-02, 2.295e-02,\n",
       "        2.144e-02, 5.891e-03, 1.333e+01, 2.547e+01, 8.900e+01, 5.274e+02,\n",
       "        1.287e-01, 2.250e-01, 2.216e-01, 1.105e-01, 2.226e-01, 8.486e-02],\n",
       "       [1.268e+01, 2.384e+01, 8.269e+01, 4.990e+02, 1.122e-01, 1.262e-01,\n",
       "        1.128e-01, 6.873e-02, 1.905e-01, 6.590e-02, 4.255e-01, 1.178e+00,\n",
       "        2.927e+00, 3.646e+01, 7.781e-03, 2.648e-02, 2.973e-02, 1.290e-02,\n",
       "        1.635e-02, 3.601e-03, 1.709e+01, 3.347e+01, 1.118e+02, 8.883e+02,\n",
       "        1.851e-01, 4.061e-01, 4.024e-01, 1.716e-01, 3.383e-01, 1.031e-01],\n",
       "       [1.057e+01, 1.832e+01, 6.682e+01, 3.409e+02, 8.142e-02, 4.462e-02,\n",
       "        1.993e-02, 1.111e-02, 2.372e-01, 5.768e-02, 1.818e-01, 2.542e+00,\n",
       "        1.277e+00, 1.312e+01, 1.072e-02, 1.331e-02, 1.993e-02, 1.111e-02,\n",
       "        1.717e-02, 4.492e-03, 1.094e+01, 2.331e+01, 6.935e+01, 3.663e+02,\n",
       "        9.794e-02, 6.542e-02, 3.986e-02, 2.222e-02, 2.699e-01, 6.736e-02]])"
      ]
     },
     "execution_count": 22,
     "metadata": {},
     "output_type": "execute_result"
    }
   ],
   "source": [
    "X_train[:5]"
   ]
  },
  {
   "cell_type": "code",
   "execution_count": 23,
   "metadata": {},
   "outputs": [
    {
     "data": {
      "text/plain": [
       "array([1, 1, 1, 0, 1])"
      ]
     },
     "execution_count": 23,
     "metadata": {},
     "output_type": "execute_result"
    }
   ],
   "source": [
    "y_train[:5]"
   ]
  },
  {
   "cell_type": "code",
   "execution_count": 24,
   "metadata": {},
   "outputs": [],
   "source": [
    "# scale\n",
    "sc = StandardScaler()  # (x-mean)/std\n",
    "\n",
    "# scale the features\n",
    "X_train = sc.fit_transform(X_train)\n",
    "X_test = sc.transform(X_test)"
   ]
  },
  {
   "cell_type": "code",
   "execution_count": 25,
   "metadata": {},
   "outputs": [
    {
     "data": {
      "text/plain": [
       "array([[-7.08531507e-01,  1.53147488e-01, -7.01660159e-01,\n",
       "        -6.88078077e-01,  3.64587320e-01, -1.87580513e-01,\n",
       "        -5.95030234e-01, -7.07298817e-01,  1.63595638e-01,\n",
       "         2.58015448e-01, -7.24126630e-01, -6.36267371e-01,\n",
       "        -7.38634808e-01, -5.80654576e-01, -5.93452590e-01,\n",
       "        -4.55933185e-01, -4.40879649e-01, -1.02140464e+00,\n",
       "        -7.48964402e-01, -4.26671366e-01, -6.11874475e-01,\n",
       "         4.73067624e-01, -6.12650158e-01, -5.87249315e-01,\n",
       "         9.49334282e-01,  2.49984993e-01, -8.14051526e-03,\n",
       "        -5.10720146e-01,  5.04338940e-01,  2.81120228e-01],\n",
       "       [-9.57828382e-01, -2.24311189e+00, -9.69647197e-01,\n",
       "        -8.56440421e-01, -3.86845333e-02, -8.98740381e-01,\n",
       "        -8.03689538e-01, -8.26037067e-01, -1.60069331e+00,\n",
       "         1.70721836e-01, -8.48839017e-01, -1.45566138e+00,\n",
       "        -8.73222706e-01, -6.71546790e-01,  2.36300117e-01,\n",
       "        -8.65989603e-01, -6.75568948e-01, -1.01412352e+00,\n",
       "        -9.97146196e-01, -6.35268446e-01, -9.77081963e-01,\n",
       "        -2.22467463e+00, -1.01195934e+00, -8.29812819e-01,\n",
       "         4.58814862e-01, -8.07741721e-01, -8.03377179e-01,\n",
       "        -1.04451760e+00, -1.34193688e+00, -3.87978829e-01],\n",
       "       [-4.85023964e-01, -6.85891926e-01, -3.83737648e-01,\n",
       "        -5.14256886e-01, -9.56840884e-02,  8.94752384e-01,\n",
       "         8.10200790e-01, -1.16841008e-02,  9.86684415e-01,\n",
       "         1.49443645e+00, -4.20712782e-02, -5.42368042e-02,\n",
       "         1.08157831e+00, -2.30978575e-01,  4.97841644e-02,\n",
       "         2.70393274e+00,  2.50461357e+00,  2.44694062e+00,\n",
       "         1.52030810e+00,  2.20672479e+00, -5.22137777e-01,\n",
       "        -7.76988050e-01, -2.88772698e-01, -5.33977681e-01,\n",
       "        -6.64216441e-01,  9.29730866e-01,  9.85556730e-01,\n",
       "         2.93694562e-01,  5.45698165e-01,  1.02456363e+00],\n",
       "       [-1.34037014e+00,  3.83244169e-01, -1.33001486e+00,\n",
       "        -1.10984586e+00,  5.64085763e-01, -5.09008702e-01,\n",
       "        -8.48571917e-01, -8.76222733e-01, -3.60523674e-01,\n",
       "         8.84812204e-01, -6.19647817e-01,  1.35313936e+00,\n",
       "        -6.04046909e-01, -6.07498391e-01,  1.11568229e+00,\n",
       "        -4.40529939e-01, -4.80786332e-01, -3.82723868e-01,\n",
       "         3.07399131e-01,  1.66183491e-01, -1.22542306e+00,\n",
       "         9.14925349e-01, -1.21041660e+00, -9.77730387e-01,\n",
       "         9.40728678e-01, -5.55547946e-01, -8.52550785e-01,\n",
       "        -7.54017652e-01, -3.82940978e-02,  4.20716435e-01],\n",
       "       [-1.41166205e-01, -1.44125982e+00, -1.74424790e-01,\n",
       "        -2.49359136e-01, -1.63482241e-03, -3.29544629e-01,\n",
       "        -6.34036647e-01, -6.02271084e-01, -1.67820391e+00,\n",
       "         9.05834380e-02, -7.11250720e-01, -1.40804865e+00,\n",
       "        -7.39642957e-01, -5.32147333e-01, -9.56104477e-01,\n",
       "        -4.73536895e-01, -5.00422953e-01, -8.05978488e-01,\n",
       "        -8.48237120e-01, -4.02442304e-01, -1.96581387e-01,\n",
       "        -1.52894956e+00, -2.32198909e-01, -3.10947109e-01,\n",
       "        -7.90353789e-02, -5.36389609e-02, -4.72454617e-01,\n",
       "        -5.20433833e-01, -8.62169869e-01,  1.57034712e-01]])"
      ]
     },
     "execution_count": 25,
     "metadata": {},
     "output_type": "execute_result"
    }
   ],
   "source": [
    "X_test[:5]"
   ]
  },
  {
   "cell_type": "code",
   "execution_count": 26,
   "metadata": {},
   "outputs": [],
   "source": [
    "\n",
    "\n",
    "# convert to torch tensor\n",
    "\n",
    "X_train = torch.from_numpy(X_train.astype(np.float32)) \n",
    "X_test = torch.from_numpy(X_test.astype(np.float32)) # \n",
    "y_train = torch.from_numpy(y_train.astype(np.float32))\n",
    "y_test = torch.from_numpy(y_test.astype(np.float32))"
   ]
  },
  {
   "cell_type": "code",
   "execution_count": 27,
   "metadata": {},
   "outputs": [
    {
     "data": {
      "text/plain": [
       "tensor([[-0.3618, -0.2652, -0.3172, -0.4671,  1.8038,  1.1817, -0.5169,  0.1065,\n",
       "         -0.3901,  1.3914,  0.1437, -0.1208,  0.1601, -0.1326, -0.5863, -0.1248,\n",
       "         -0.5787,  0.1091, -0.2819, -0.1889, -0.2571, -0.2403, -0.2442, -0.3669,\n",
       "          0.5449,  0.2481, -0.7109, -0.0797, -0.5280,  0.2506],\n",
       "        [-0.8633,  0.7156, -0.8565, -0.7967, -0.0586, -0.4285, -0.5170, -0.6814,\n",
       "          0.7948,  0.3882, -0.4545,  0.4009, -0.4357, -0.5216, -1.1631,  0.2724,\n",
       "          0.0675, -0.2392,  1.1130,  0.3502, -0.8894,  0.3847, -0.8880, -0.7897,\n",
       "         -1.0429, -0.4824, -0.5631, -0.7698,  0.4431, -0.2099],\n",
       "        [-0.4334,  0.3251, -0.4129, -0.5036,  0.2029,  0.3169,  0.2114,  0.2923,\n",
       "         -0.2941,  1.1295, -0.2249,  0.9890, -0.0743, -0.4596,  1.8909,  0.8176,\n",
       "          0.5919,  1.7726,  0.1356,  0.7924, -0.6160, -0.0636, -0.5528, -0.6284,\n",
       "         -0.1823, -0.1924, -0.2601, -0.0660, -1.1169,  0.0329],\n",
       "        [-0.4191,  1.0410, -0.3904, -0.4502,  1.1198,  0.4183,  0.2901,  0.5127,\n",
       "          0.3334,  0.4426,  0.0808, -0.1050,  0.0346, -0.0833,  0.2272,  0.0507,\n",
       "         -0.0820,  0.1819, -0.5122, -0.0746,  0.1686,  1.2218,  0.1297,  0.0124,\n",
       "          2.2445,  0.9297,  0.5803,  0.8613,  0.7972,  1.0085],\n",
       "        [-1.0237, -0.2420, -1.0508, -0.9044, -1.0732, -1.1425, -0.8710, -0.9779,\n",
       "          2.0571, -0.7337, -0.8157,  2.2826, -0.7971, -0.6329,  1.1806, -0.6738,\n",
       "         -0.3924, -0.1015, -0.4079,  0.2627, -1.1148, -0.4106, -1.1410, -0.9145,\n",
       "         -1.5058, -1.1813, -1.1047, -1.4059, -0.3344, -0.9030]])"
      ]
     },
     "execution_count": 27,
     "metadata": {},
     "output_type": "execute_result"
    }
   ],
   "source": [
    "X_train[:5]"
   ]
  },
  {
   "cell_type": "code",
   "execution_count": 28,
   "metadata": {},
   "outputs": [
    {
     "data": {
      "text/plain": [
       "tensor([1., 1., 1., 0., 1.])"
      ]
     },
     "execution_count": 28,
     "metadata": {},
     "output_type": "execute_result"
    }
   ],
   "source": [
    "y_train[:5]"
   ]
  },
  {
   "cell_type": "code",
   "execution_count": 29,
   "metadata": {},
   "outputs": [],
   "source": [
    "\n",
    "\n",
    "# Create 2d tensors from 1 d tensor target [0,1,0,1,1,0,]\n",
    "\n",
    "y_train = y_train.view(y_train.shape[0], 1)   # [[0], [1], [0], [1], [0]]\n",
    "y_test = y_test.view(y_test.shape[0], 1)"
   ]
  },
  {
   "cell_type": "code",
   "execution_count": 31,
   "metadata": {},
   "outputs": [
    {
     "data": {
      "text/plain": [
       "tensor([[1.],\n",
       "        [1.],\n",
       "        [1.],\n",
       "        [0.],\n",
       "        [1.]])"
      ]
     },
     "execution_count": 31,
     "metadata": {},
     "output_type": "execute_result"
    }
   ],
   "source": [
    "y_train[:5]"
   ]
  },
  {
   "cell_type": "code",
   "execution_count": 2,
   "metadata": {},
   "outputs": [
    {
     "name": "stdout",
     "output_type": "stream",
     "text": [
      "epoch: 10, loss = 0.4941\n",
      "epoch: 20, loss = 0.4276\n",
      "epoch: 30, loss = 0.3808\n",
      "epoch: 40, loss = 0.3459\n",
      "epoch: 50, loss = 0.3189\n",
      "epoch: 60, loss = 0.2972\n",
      "epoch: 70, loss = 0.2793\n",
      "epoch: 80, loss = 0.2643\n",
      "epoch: 90, loss = 0.2515\n",
      "epoch: 100, loss = 0.2403\n"
     ]
    }
   ],
   "source": [
    "\n",
    "# 1) Model\n",
    "# Linear model f = wx + b , sigmoid at the end\n",
    "class Model(nn.Module):\n",
    "    def __init__(self, n_input_features):\n",
    "        super(Model, self).__init__()\n",
    "        self.linear = nn.Linear(n_input_features, 1) # output 1 \n",
    "\n",
    "    def forward(self, x):\n",
    "        y_pred = torch.sigmoid(self.linear(x))\n",
    "        return y_pred\n",
    "\n",
    "model = Model(n_features)\n",
    "\n",
    "# 2) Loss and optimizer\n",
    "num_epochs = 100\n",
    "learning_rate = 0.01\n",
    "criterion = nn.BCELoss()  # binary cross entropy loss \n",
    "# Formula:\n",
    "# The BCE loss is calculated as:\n",
    "# L(y, y') = -[y * log(y') + (1-y) * log(1-y')]\n",
    "# where:\n",
    "# y is the true label (0 or 1)\n",
    "# y' is the predicted probability\n",
    "\n",
    "optimizer = torch.optim.SGD(model.parameters(), lr=learning_rate)\n",
    "\n",
    "# 3) Training loop\n",
    "for epoch in range(num_epochs):\n",
    "    # Forward pass and loss\n",
    "    y_pred = model(X_train)\n",
    "    loss = criterion(y_pred, y_train)\n",
    "\n",
    "    # Backward pass and update\n",
    "    loss.backward()  # dl_dw\n",
    "    optimizer.step() # w -= lr * dl_dw\n",
    "\n",
    "    # zero grad before new step\n",
    "    optimizer.zero_grad() # grad = 0\n",
    "\n",
    "    if (epoch+1) % 10 == 0:\n",
    "        print(f'epoch: {epoch+1}, loss = {loss.item():.4f}')\n",
    "\n",
    "\n"
   ]
  },
  {
   "cell_type": "code",
   "execution_count": 5,
   "metadata": {},
   "outputs": [
    {
     "data": {
      "text/plain": [
       "(569, 30)"
      ]
     },
     "execution_count": 5,
     "metadata": {},
     "output_type": "execute_result"
    }
   ],
   "source": [
    "X.shape"
   ]
  },
  {
   "cell_type": "code",
   "execution_count": 6,
   "metadata": {},
   "outputs": [
    {
     "data": {
      "text/plain": [
       "(569,)"
      ]
     },
     "execution_count": 6,
     "metadata": {},
     "output_type": "execute_result"
    }
   ],
   "source": [
    "y.shape"
   ]
  },
  {
   "cell_type": "code",
   "execution_count": 8,
   "metadata": {},
   "outputs": [
    {
     "data": {
      "text/plain": [
       "torch.Size([114, 30])"
      ]
     },
     "execution_count": 8,
     "metadata": {},
     "output_type": "execute_result"
    }
   ],
   "source": [
    "X_test.shape"
   ]
  },
  {
   "cell_type": "code",
   "execution_count": 9,
   "metadata": {},
   "outputs": [
    {
     "data": {
      "text/plain": [
       "torch.Size([114, 1])"
      ]
     },
     "execution_count": 9,
     "metadata": {},
     "output_type": "execute_result"
    }
   ],
   "source": [
    "y_test.shape"
   ]
  },
  {
   "cell_type": "code",
   "execution_count": 33,
   "metadata": {},
   "outputs": [
    {
     "name": "stdout",
     "output_type": "stream",
     "text": [
      "tensor([[8.1594e-01],\n",
      "        [9.5226e-01],\n",
      "        [3.8130e-01],\n",
      "        [8.7944e-01],\n",
      "        [8.3211e-01],\n",
      "        [5.4134e-01],\n",
      "        [5.3138e-01],\n",
      "        [9.4040e-01],\n",
      "        [2.2605e-02],\n",
      "        [5.5633e-02],\n",
      "        [6.8985e-02],\n",
      "        [7.6085e-01],\n",
      "        [7.4036e-01],\n",
      "        [6.1616e-01],\n",
      "        [8.3795e-01],\n",
      "        [1.2967e-03],\n",
      "        [8.9966e-01],\n",
      "        [9.3718e-01],\n",
      "        [8.1520e-01],\n",
      "        [2.0015e-01],\n",
      "        [7.9463e-01],\n",
      "        [2.3642e-01],\n",
      "        [9.8438e-03],\n",
      "        [2.7363e-03],\n",
      "        [6.8561e-02],\n",
      "        [7.9332e-01],\n",
      "        [4.7861e-01],\n",
      "        [8.5617e-01],\n",
      "        [9.5465e-01],\n",
      "        [9.2434e-01],\n",
      "        [8.1005e-01],\n",
      "        [8.9080e-01],\n",
      "        [6.3612e-02],\n",
      "        [7.3684e-01],\n",
      "        [8.4748e-01],\n",
      "        [5.9396e-01],\n",
      "        [9.3603e-01],\n",
      "        [3.4808e-01],\n",
      "        [7.4059e-01],\n",
      "        [8.9746e-01],\n",
      "        [1.3999e-01],\n",
      "        [8.7378e-01],\n",
      "        [6.7185e-02],\n",
      "        [7.3832e-01],\n",
      "        [7.4758e-01],\n",
      "        [8.8723e-01],\n",
      "        [8.2861e-01],\n",
      "        [6.0905e-01],\n",
      "        [1.0756e-02],\n",
      "        [7.1262e-01],\n",
      "        [2.4271e-01],\n",
      "        [7.3966e-01],\n",
      "        [7.5402e-01],\n",
      "        [3.5550e-02],\n",
      "        [6.6481e-01],\n",
      "        [8.7964e-01],\n",
      "        [5.7149e-01],\n",
      "        [9.5351e-01],\n",
      "        [7.1450e-01],\n",
      "        [1.5088e-01],\n",
      "        [3.1195e-01],\n",
      "        [9.3323e-01],\n",
      "        [6.2743e-01],\n",
      "        [8.6518e-01],\n",
      "        [7.8805e-01],\n",
      "        [2.6264e-01],\n",
      "        [4.7605e-02],\n",
      "        [8.2419e-01],\n",
      "        [8.8436e-01],\n",
      "        [7.7113e-01],\n",
      "        [9.2808e-01],\n",
      "        [7.6156e-02],\n",
      "        [9.6411e-01],\n",
      "        [4.1946e-01],\n",
      "        [9.3881e-01],\n",
      "        [9.0057e-01],\n",
      "        [9.3123e-01],\n",
      "        [5.5910e-02],\n",
      "        [7.8764e-01],\n",
      "        [2.5677e-01],\n",
      "        [9.3573e-01],\n",
      "        [8.4794e-01],\n",
      "        [6.8518e-01],\n",
      "        [4.2880e-01],\n",
      "        [3.2054e-01],\n",
      "        [2.3868e-01],\n",
      "        [5.9578e-02],\n",
      "        [1.7717e-01],\n",
      "        [6.7944e-01],\n",
      "        [5.3431e-01],\n",
      "        [7.6732e-01],\n",
      "        [7.3897e-01],\n",
      "        [9.0724e-01],\n",
      "        [4.6546e-03],\n",
      "        [5.4148e-02],\n",
      "        [8.6579e-01],\n",
      "        [8.3639e-01],\n",
      "        [6.7974e-01],\n",
      "        [8.3851e-01],\n",
      "        [9.2557e-01],\n",
      "        [1.0312e-02],\n",
      "        [2.1973e-02],\n",
      "        [8.7415e-01],\n",
      "        [9.4517e-01],\n",
      "        [3.6703e-01],\n",
      "        [9.2092e-01],\n",
      "        [9.3792e-01],\n",
      "        [2.8791e-01],\n",
      "        [2.7120e-01],\n",
      "        [6.2975e-01],\n",
      "        [9.4453e-02],\n",
      "        [7.9575e-01],\n",
      "        [5.7852e-01],\n",
      "        [2.8138e-06]])\n",
      "tensor([[1.],\n",
      "        [1.],\n",
      "        [0.],\n",
      "        [1.],\n",
      "        [1.],\n",
      "        [1.],\n",
      "        [1.],\n",
      "        [1.],\n",
      "        [0.],\n",
      "        [0.],\n",
      "        [0.],\n",
      "        [1.],\n",
      "        [1.],\n",
      "        [1.],\n",
      "        [1.],\n",
      "        [0.],\n",
      "        [1.],\n",
      "        [1.],\n",
      "        [1.],\n",
      "        [0.],\n",
      "        [1.],\n",
      "        [0.],\n",
      "        [0.],\n",
      "        [0.],\n",
      "        [0.],\n",
      "        [1.],\n",
      "        [0.],\n",
      "        [1.],\n",
      "        [1.],\n",
      "        [1.],\n",
      "        [1.],\n",
      "        [1.],\n",
      "        [0.],\n",
      "        [1.],\n",
      "        [1.],\n",
      "        [1.],\n",
      "        [1.],\n",
      "        [0.],\n",
      "        [1.],\n",
      "        [1.],\n",
      "        [0.],\n",
      "        [1.],\n",
      "        [0.],\n",
      "        [1.],\n",
      "        [1.],\n",
      "        [1.],\n",
      "        [1.],\n",
      "        [1.],\n",
      "        [0.],\n",
      "        [1.],\n",
      "        [0.],\n",
      "        [1.],\n",
      "        [1.],\n",
      "        [0.],\n",
      "        [1.],\n",
      "        [1.],\n",
      "        [1.],\n",
      "        [1.],\n",
      "        [1.],\n",
      "        [0.],\n",
      "        [0.],\n",
      "        [1.],\n",
      "        [1.],\n",
      "        [1.],\n",
      "        [1.],\n",
      "        [0.],\n",
      "        [0.],\n",
      "        [1.],\n",
      "        [1.],\n",
      "        [1.],\n",
      "        [1.],\n",
      "        [0.],\n",
      "        [1.],\n",
      "        [0.],\n",
      "        [1.],\n",
      "        [1.],\n",
      "        [1.],\n",
      "        [0.],\n",
      "        [1.],\n",
      "        [0.],\n",
      "        [1.],\n",
      "        [1.],\n",
      "        [1.],\n",
      "        [0.],\n",
      "        [0.],\n",
      "        [0.],\n",
      "        [0.],\n",
      "        [0.],\n",
      "        [1.],\n",
      "        [1.],\n",
      "        [1.],\n",
      "        [1.],\n",
      "        [1.],\n",
      "        [0.],\n",
      "        [0.],\n",
      "        [1.],\n",
      "        [1.],\n",
      "        [1.],\n",
      "        [1.],\n",
      "        [1.],\n",
      "        [0.],\n",
      "        [0.],\n",
      "        [1.],\n",
      "        [1.],\n",
      "        [0.],\n",
      "        [1.],\n",
      "        [1.],\n",
      "        [0.],\n",
      "        [0.],\n",
      "        [1.],\n",
      "        [0.],\n",
      "        [1.],\n",
      "        [1.],\n",
      "        [0.]])\n",
      "tensor([[ True],\n",
      "        [ True],\n",
      "        [False],\n",
      "        [ True],\n",
      "        [ True],\n",
      "        [ True],\n",
      "        [False],\n",
      "        [ True],\n",
      "        [ True],\n",
      "        [ True],\n",
      "        [ True],\n",
      "        [ True],\n",
      "        [ True],\n",
      "        [ True],\n",
      "        [ True],\n",
      "        [ True],\n",
      "        [ True],\n",
      "        [ True],\n",
      "        [ True],\n",
      "        [ True],\n",
      "        [ True],\n",
      "        [ True],\n",
      "        [ True],\n",
      "        [ True],\n",
      "        [ True],\n",
      "        [ True],\n",
      "        [ True],\n",
      "        [ True],\n",
      "        [ True],\n",
      "        [ True],\n",
      "        [ True],\n",
      "        [ True],\n",
      "        [ True],\n",
      "        [ True],\n",
      "        [ True],\n",
      "        [ True],\n",
      "        [ True],\n",
      "        [ True],\n",
      "        [False],\n",
      "        [ True],\n",
      "        [ True],\n",
      "        [ True],\n",
      "        [ True],\n",
      "        [ True],\n",
      "        [ True],\n",
      "        [ True],\n",
      "        [ True],\n",
      "        [False],\n",
      "        [ True],\n",
      "        [ True],\n",
      "        [False],\n",
      "        [ True],\n",
      "        [ True],\n",
      "        [ True],\n",
      "        [False],\n",
      "        [ True],\n",
      "        [ True],\n",
      "        [ True],\n",
      "        [ True],\n",
      "        [ True],\n",
      "        [False],\n",
      "        [ True],\n",
      "        [ True],\n",
      "        [ True],\n",
      "        [ True],\n",
      "        [ True],\n",
      "        [ True],\n",
      "        [ True],\n",
      "        [ True],\n",
      "        [False],\n",
      "        [ True],\n",
      "        [ True],\n",
      "        [ True],\n",
      "        [ True],\n",
      "        [ True],\n",
      "        [ True],\n",
      "        [ True],\n",
      "        [ True],\n",
      "        [ True],\n",
      "        [ True],\n",
      "        [ True],\n",
      "        [ True],\n",
      "        [ True],\n",
      "        [ True],\n",
      "        [ True],\n",
      "        [ True],\n",
      "        [ True],\n",
      "        [ True],\n",
      "        [ True],\n",
      "        [False],\n",
      "        [ True],\n",
      "        [False],\n",
      "        [ True],\n",
      "        [ True],\n",
      "        [ True],\n",
      "        [ True],\n",
      "        [ True],\n",
      "        [ True],\n",
      "        [ True],\n",
      "        [ True],\n",
      "        [ True],\n",
      "        [ True],\n",
      "        [ True],\n",
      "        [ True],\n",
      "        [ True],\n",
      "        [ True],\n",
      "        [ True],\n",
      "        [ True],\n",
      "        [ True],\n",
      "        [ True],\n",
      "        [ True],\n",
      "        [ True],\n",
      "        [False],\n",
      "        [ True]])\n",
      "tensor(103)\n",
      "accuracy: 0.9035\n"
     ]
    }
   ],
   "source": [
    "with torch.no_grad(): # no grad tracking needed or detached mode\n",
    "    y_predicted = model(X_test) # torch.Size([114, 1])\n",
    "    print(y_predicted)  #  torch.Size([114, 1])  [[8.1594e-01],  probability valuees\n",
    "        # [9.5226e-01],\n",
    "        # [3.8130e-01],\n",
    "        # [8.7944e-01],\n",
    "        # [8.3211e-01],\n",
    "        # [5.4134e-01],\n",
    "        # [5.3138e-01],\n",
    "    y_predicted_cls = y_predicted.round() # like sigmoid 0 or 1\n",
    "    print(y_predicted_cls) # tensor([[1.], [0.], [1.], [0.], [1.], [0.], [1.], [0.], [1.], [0.]])\n",
    "    print(y_predicted_cls.eq(y_test)) # tensor(6)\n",
    "    print(y_predicted_cls.eq(y_test).sum()) # 103 correct predictions\n",
    "\n",
    "\n",
    "    acc = y_predicted_cls.eq(y_test).sum() / float(y_test.shape[0])\n",
    "    print(f'accuracy: {acc.item():.4f}')"
   ]
  }
 ],
 "metadata": {
  "kernelspec": {
   "display_name": "Python 3",
   "language": "python",
   "name": "python3"
  },
  "language_info": {
   "codemirror_mode": {
    "name": "ipython",
    "version": 3
   },
   "file_extension": ".py",
   "mimetype": "text/x-python",
   "name": "python",
   "nbconvert_exporter": "python",
   "pygments_lexer": "ipython3",
   "version": "3.11.0"
  }
 },
 "nbformat": 4,
 "nbformat_minor": 2
}
