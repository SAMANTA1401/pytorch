{
 "cells": [
  {
   "cell_type": "code",
   "execution_count": 1,
   "metadata": {},
   "outputs": [],
   "source": [
    "\n",
    "import torch\n",
    "import torch.nn as nn\n",
    "import torch.nn.functional as F\n",
    "import torchvision\n",
    "import torchvision.transforms as transforms\n",
    "import matplotlib.pyplot as plt\n",
    "import numpy as np"
   ]
  },
  {
   "cell_type": "code",
   "execution_count": 2,
   "metadata": {},
   "outputs": [],
   "source": [
    "# Device configuration\n",
    "device = torch.device('cuda' if torch.cuda.is_available() else 'cpu')"
   ]
  },
  {
   "cell_type": "code",
   "execution_count": 3,
   "metadata": {},
   "outputs": [
    {
     "data": {
      "text/plain": [
       "device(type='cuda')"
      ]
     },
     "execution_count": 3,
     "metadata": {},
     "output_type": "execute_result"
    }
   ],
   "source": [
    "device"
   ]
  },
  {
   "cell_type": "code",
   "execution_count": 4,
   "metadata": {},
   "outputs": [],
   "source": [
    "# dataset has PILImage images of range [0, 1]. \n",
    "# We transform them to Tensors of normalized range [-1, 1]\n",
    "transform = transforms.Compose([transforms.ToTensor(), transforms.Normalize((0.5, 0.5, 0.5), (0.5, 0.5, 0.5))]) # mean, std"
   ]
  },
  {
   "cell_type": "code",
   "execution_count": null,
   "metadata": {},
   "outputs": [],
   "source": [
    "# transforms.Compose(): This function is used to compose multiple transformations into a single transformation.\n",
    "# transforms.ToTensor(): This transformation converts a PIL image to a PyTorch tensor.\n",
    "# transforms.Normalize((0.5, 0.5, 0.5), (0.5, 0.5, 0.5)): This transformation normalizes the pixel values of the image to have a mean of 0.5 and a standard deviation of 0.5 for each color channel (R, G, B).\n",
    "# Purpose:               r   g     b       r   g     b\n",
    "# The purpose of this transformation is to prepare image data for training a neural network. By normalizing the pixel values, the network can learn more efficiently and accurately"
   ]
  },
  {
   "cell_type": "code",
   "execution_count": 5,
   "metadata": {},
   "outputs": [
    {
     "name": "stdout",
     "output_type": "stream",
     "text": [
      "Files already downloaded and verified\n"
     ]
    }
   ],
   "source": [
    "# CIFAR10: 60000 32x32 color images in 10 classes, with 6000 images per class\n",
    "train_dataset = torchvision.datasets.CIFAR10(root='./data', train=True, download=True, transform=transform)"
   ]
  },
  {
   "cell_type": "code",
   "execution_count": 6,
   "metadata": {},
   "outputs": [
    {
     "name": "stdout",
     "output_type": "stream",
     "text": [
      "Files already downloaded and verified\n"
     ]
    }
   ],
   "source": [
    "test_dataset = torchvision.datasets.CIFAR10(root='./data', train=False,\n",
    "                                       download=True, transform=transform)"
   ]
  },
  {
   "cell_type": "code",
   "execution_count": 7,
   "metadata": {},
   "outputs": [],
   "source": [
    "# Hyper-parameters \n",
    "num_epochs = 5\n",
    "batch_size = 4\n",
    "learning_rate = 0.001"
   ]
  },
  {
   "cell_type": "code",
   "execution_count": 8,
   "metadata": {},
   "outputs": [],
   "source": [
    "train_loader = torch.utils.data.DataLoader(train_dataset, batch_size=batch_size,\n",
    "                                          shuffle=True)"
   ]
  },
  {
   "cell_type": "code",
   "execution_count": 9,
   "metadata": {},
   "outputs": [],
   "source": [
    "test_loader = torch.utils.data.DataLoader(test_dataset, batch_size=batch_size,\n",
    "                                         shuffle=False)"
   ]
  },
  {
   "cell_type": "code",
   "execution_count": 10,
   "metadata": {},
   "outputs": [],
   "source": [
    "classes = ('plane', 'car', 'bird', 'cat',\n",
    "           'deer', 'dog', 'frog', 'horse', 'ship', 'truck')"
   ]
  },
  {
   "cell_type": "code",
   "execution_count": 11,
   "metadata": {},
   "outputs": [],
   "source": [
    "def imshow(img):\n",
    "    img = img / 2 + 0.5  # unnormalize\n",
    "    npimg = img.numpy()\n",
    "    plt.imshow(np.transpose(npimg, (1, 2, 0)))\n",
    "    plt.show()"
   ]
  },
  {
   "cell_type": "code",
   "execution_count": null,
   "metadata": {},
   "outputs": [],
   "source": [
    "# This line of code reverses the normalization process that was applied to the image earlier. When normalizing an image, \n",
    "# the pixel values are usually scaled to a range between -1 and 1 or 0 and 1. This line of code scales the pixel values back \n",
    "# to their original range.\n",
    "# This line of code converts the PyTorch tensor img to a NumPy array npimg.\n",
    "# In PyTorch, images are typically represented as tensors with shape (channels, height, width). However, Matplotlib's \n",
    "# imshow function expects images to have shape (height, width, channels). This line of code swaps the dimensions to match\n",
    "# Matplotlib's expectations."
   ]
  },
  {
   "cell_type": "code",
   "execution_count": null,
   "metadata": {},
   "outputs": [],
   "source": [
    "train_loader"
   ]
  },
  {
   "cell_type": "code",
   "execution_count": 12,
   "metadata": {},
   "outputs": [],
   "source": [
    "# get some random training images\n",
    "dataiter = iter(train_loader)\n",
    "images, labels = next(dataiter)"
   ]
  },
  {
   "cell_type": "code",
   "execution_count": null,
   "metadata": {},
   "outputs": [],
   "source": [
    "images, labels = next(iter(train_loader))"
   ]
  },
  {
   "cell_type": "code",
   "execution_count": 13,
   "metadata": {},
   "outputs": [
    {
     "data": {
      "text/plain": [
       "tensor([[[[-0.7020, -0.6863, -0.5922,  ..., -0.6706, -0.7098, -0.7569],\n",
       "          [-0.4275, -0.3020, -0.4118,  ..., -0.6471, -0.7255, -0.7725],\n",
       "          [-0.5608, -0.3020, -0.1137,  ..., -0.6157, -0.6078, -0.7569],\n",
       "          ...,\n",
       "          [-0.8353, -0.7961, -0.7176,  ..., -0.7490, -0.7882, -0.7333],\n",
       "          [-0.7961, -0.7804, -0.7255,  ..., -0.6314, -0.7255, -0.7098],\n",
       "          [-0.7176, -0.7882, -0.7647,  ..., -0.6863, -0.6863, -0.7098]],\n",
       "\n",
       "         [[-0.6706, -0.6627, -0.6078,  ..., -0.7020, -0.7412, -0.7882],\n",
       "          [-0.3961, -0.3020, -0.4431,  ..., -0.6784, -0.7490, -0.7961],\n",
       "          [-0.5529, -0.3255, -0.1529,  ..., -0.6392, -0.6235, -0.7804],\n",
       "          ...,\n",
       "          [-0.8510, -0.8118, -0.7333,  ..., -0.7725, -0.8118, -0.7569],\n",
       "          [-0.8118, -0.7961, -0.7412,  ..., -0.6549, -0.7490, -0.7333],\n",
       "          [-0.7333, -0.8039, -0.7804,  ..., -0.7098, -0.7098, -0.7333]],\n",
       "\n",
       "         [[-0.4353, -0.4275, -0.3412,  ..., -0.4353, -0.4824, -0.5294],\n",
       "          [-0.1765, -0.0431, -0.1451,  ..., -0.4039, -0.5137, -0.5529],\n",
       "          [-0.3333, -0.0667,  0.1373,  ..., -0.4039, -0.4275, -0.5608],\n",
       "          ...,\n",
       "          [-0.6549, -0.6235, -0.5451,  ..., -0.5451, -0.5843, -0.5294],\n",
       "          [-0.6235, -0.6157, -0.5529,  ..., -0.4275, -0.5216, -0.5059],\n",
       "          [-0.5373, -0.6157, -0.5922,  ..., -0.4902, -0.4824, -0.5137]]],\n",
       "\n",
       "\n",
       "        [[[ 0.5922,  0.5451,  0.5216,  ...,  0.4902,  0.5059,  0.5451],\n",
       "          [ 0.6078,  0.5608,  0.5373,  ...,  0.5059,  0.5137,  0.5608],\n",
       "          [ 0.6078,  0.5529,  0.5294,  ...,  0.4824,  0.4980,  0.5529],\n",
       "          ...,\n",
       "          [-0.6078, -0.5451, -0.4902,  ..., -0.5843, -0.5843, -0.5529],\n",
       "          [-0.7020, -0.6627, -0.5765,  ..., -0.5765, -0.5529, -0.5294],\n",
       "          [-0.6941, -0.6706, -0.6471,  ..., -0.6314, -0.5529, -0.5059]],\n",
       "\n",
       "         [[ 0.6941,  0.6471,  0.6157,  ...,  0.5922,  0.6000,  0.6392],\n",
       "          [ 0.6941,  0.6471,  0.6235,  ...,  0.5922,  0.6000,  0.6471],\n",
       "          [ 0.6863,  0.6314,  0.6078,  ...,  0.5608,  0.5765,  0.6235],\n",
       "          ...,\n",
       "          [-0.2157, -0.1922, -0.1765,  ..., -0.3490, -0.3569, -0.3255],\n",
       "          [-0.3098, -0.3098, -0.2549,  ..., -0.3412, -0.3176, -0.2941],\n",
       "          [-0.3098, -0.3255, -0.3255,  ..., -0.3961, -0.3176, -0.2706]],\n",
       "\n",
       "         [[ 0.7647,  0.7176,  0.6863,  ...,  0.6627,  0.6706,  0.7176],\n",
       "          [ 0.7725,  0.7176,  0.7020,  ...,  0.6627,  0.6784,  0.7255],\n",
       "          [ 0.7569,  0.7020,  0.6784,  ...,  0.6314,  0.6471,  0.6941],\n",
       "          ...,\n",
       "          [ 0.0588,  0.0588,  0.0588,  ..., -0.1529, -0.1686, -0.1373],\n",
       "          [-0.0275, -0.0510, -0.0196,  ..., -0.1373, -0.1137, -0.0824],\n",
       "          [-0.0353, -0.0667, -0.0902,  ..., -0.1922, -0.1137, -0.0588]]],\n",
       "\n",
       "\n",
       "        [[[-0.3176, -0.3804, -0.3412,  ...,  0.0980,  0.1216,  0.0980],\n",
       "          [-0.3725, -0.3804, -0.3255,  ...,  0.0510,  0.0275,  0.0745],\n",
       "          [-0.4353, -0.3725, -0.2941,  ..., -0.0824, -0.0980,  0.0196],\n",
       "          ...,\n",
       "          [-0.3569, -0.3255, -0.3255,  ..., -0.2549, -0.2941, -0.2941],\n",
       "          [-0.3176, -0.3490, -0.3098,  ..., -0.2706, -0.3098, -0.2863],\n",
       "          [-0.3098, -0.3333, -0.3098,  ..., -0.2941, -0.2941, -0.2941]],\n",
       "\n",
       "         [[-0.4824, -0.5216, -0.4745,  ...,  0.1059,  0.1294,  0.1059],\n",
       "          [-0.5451, -0.5294, -0.4667,  ...,  0.0510,  0.0275,  0.0824],\n",
       "          [-0.6078, -0.5216, -0.4275,  ..., -0.0902, -0.0980,  0.0275],\n",
       "          ...,\n",
       "          [-0.5059, -0.4745, -0.4118,  ..., -0.2549, -0.2863, -0.2863],\n",
       "          [-0.4667, -0.4980, -0.4039,  ..., -0.2706, -0.3098, -0.2863],\n",
       "          [-0.4667, -0.4824, -0.4039,  ..., -0.2941, -0.2941, -0.2941]],\n",
       "\n",
       "         [[-0.9059, -0.9137, -0.8667,  ...,  0.0431,  0.0667,  0.0431],\n",
       "          [-0.9373, -0.8980, -0.8275,  ...,  0.0275, -0.0118,  0.0275],\n",
       "          [-0.9765, -0.8824, -0.7725,  ..., -0.0824, -0.1216, -0.0196],\n",
       "          ...,\n",
       "          [-0.9451, -0.9137, -0.8902,  ..., -0.2706, -0.3176, -0.3176],\n",
       "          [-0.9216, -0.9373, -0.8902,  ..., -0.2863, -0.3255, -0.3020],\n",
       "          [-0.9059, -0.9137, -0.8745,  ..., -0.3098, -0.3020, -0.2941]]],\n",
       "\n",
       "\n",
       "        [[[ 0.4118,  0.4431,  0.4196,  ...,  0.2235,  0.2157,  0.1922],\n",
       "          [ 0.3647,  0.3333,  0.3569,  ...,  0.1922,  0.2941,  0.3176],\n",
       "          [ 0.2706,  0.3020,  0.3647,  ...,  0.2392,  0.3333,  0.3098],\n",
       "          ...,\n",
       "          [-0.4667, -0.5608, -0.5765,  ..., -0.0431, -0.0275, -0.1294],\n",
       "          [-0.4980, -0.6078, -0.5922,  ..., -0.1294, -0.1294, -0.1608],\n",
       "          [-0.5373, -0.6314, -0.6157,  ..., -0.1608, -0.1137, -0.1294]],\n",
       "\n",
       "         [[ 0.3569,  0.3804,  0.3412,  ...,  0.1294,  0.1294,  0.0980],\n",
       "          [ 0.3020,  0.2706,  0.2627,  ...,  0.0667,  0.1686,  0.2000],\n",
       "          [ 0.2000,  0.2157,  0.2471,  ...,  0.0902,  0.1686,  0.1686],\n",
       "          ...,\n",
       "          [-0.5529, -0.6157, -0.6392,  ..., -0.1451, -0.1294, -0.2000],\n",
       "          [-0.5765, -0.6471, -0.6235,  ..., -0.2235, -0.2000, -0.2157],\n",
       "          [-0.6157, -0.6706, -0.6549,  ..., -0.2471, -0.2000, -0.2000]],\n",
       "\n",
       "         [[ 0.1529,  0.1686,  0.1373,  ..., -0.0588, -0.0824, -0.1373],\n",
       "          [ 0.0980,  0.0667,  0.0667,  ..., -0.0980, -0.0196, -0.0275],\n",
       "          [ 0.0039,  0.0118,  0.0510,  ..., -0.0588, -0.0196, -0.0353],\n",
       "          ...,\n",
       "          [-0.6235, -0.6863, -0.7020,  ..., -0.2784, -0.2627, -0.3255],\n",
       "          [-0.6471, -0.7098, -0.6784,  ..., -0.3490, -0.3176, -0.3333],\n",
       "          [-0.6627, -0.7255, -0.7098,  ..., -0.3725, -0.3098, -0.3098]]]])"
      ]
     },
     "execution_count": 13,
     "metadata": {},
     "output_type": "execute_result"
    }
   ],
   "source": [
    "images"
   ]
  },
  {
   "cell_type": "code",
   "execution_count": 14,
   "metadata": {},
   "outputs": [
    {
     "data": {
      "text/plain": [
       "tensor([6, 8, 6, 5])"
      ]
     },
     "execution_count": 14,
     "metadata": {},
     "output_type": "execute_result"
    }
   ],
   "source": [
    "labels"
   ]
  },
  {
   "cell_type": "code",
   "execution_count": null,
   "metadata": {},
   "outputs": [],
   "source": [
    "# images: A tensor of images with shape (B, C, H, W), where:\n",
    "# B is the batch size (number of images).\n",
    "# C is the number of color channels (e.g., 3 for RGB).\n",
    "# H is the height of each image.\n",
    "# W is the width of each image.\n",
    "# Returns:\n",
    "# A tensor with shape (C, H_grid, W_grid), where:\n",
    "# H_grid is the height of the grid.\n",
    "# W_grid is the width of the grid."
   ]
  },
  {
   "cell_type": "code",
   "execution_count": 15,
   "metadata": {},
   "outputs": [
    {
     "data": {
      "image/png": "[encoded data removed]",
      "text/plain": [
       "<Figure size 640x480 with 1 Axes>"
      ]
     },
     "metadata": {},
     "output_type": "display_data"
    }
   ],
   "source": [
    "# show images\n",
    "imshow(torchvision.utils.make_grid(images))"
   ]
  },
  {
   "cell_type": "code",
   "execution_count": null,
   "metadata": {},
   "outputs": [],
   "source": [
    "no_of_class = 10"
   ]
  },
  {
   "cell_type": "code",
   "execution_count": null,
   "metadata": {},
   "outputs": [],
   "source": [
    "# This code defines a series of layers for a Convolutional Neural Network (CNN) in PyTorch.\n",
    "\n",
    "# self.conv1 = nn.Conv2d(3, 6, 5):\n",
    "\n",
    "# This line defines the first convolutional layer.\n",
    "# 3: The number of input channels (e.g., 3 for RGB images).\n",
    "# 6: The number of output channels (filters).\n",
    "# 5: The size of the convolutional kernel (filter size).\n",
    "# self.pool = nn.MaxPool2d(2, 2):\n",
    "\n",
    "# This line defines a max-pooling layer.\n",
    "# 2, 2: The size of the pooling window is 2x2.  # stride 2\n",
    "# self.conv2 = nn.Conv2d(6, 16, 5):\n",
    "\n",
    "# This defines the second convolutional layer.\n",
    "# 6: The number of input channels (from the previous convolutional layer).\n",
    "# 16: The number of output channels.\n",
    "# 5: The size of the convolutional kernel.\n",
    "# self.fc1 = nn.Linear(16 * 5 * 5, 120):\n",
    "\n",
    "# This defines the first fully connected (linear) layer.\n",
    "# 16 * 5 * 5: The input size of this layer. This is calculated based on the output of the previous convolutional layers and pooling.\n",
    "# 120: The number of neurons in this layer.\n",
    "# self.fc2 = nn.Linear(120, 84):\n",
    "\n",
    "# This defines the second fully connected layer.\n",
    "# 120: The input size from the previous fully connected layer.\n",
    "# 84: The number of neurons in this layer.\n",
    "# self.fc3 = nn.Linear(84, 10):\n",
    "\n",
    "# This defines the final fully connected layer.\n",
    "# 84: The input size from the previous fully connected layer.\n",
    "# 10: The number of output neurons. This likely corresponds to the number of classes in a classification problem (e.g., 10 classes for classifying images of digits 0-9)."
   ]
  },
  {
   "cell_type": "code",
   "execution_count": 16,
   "metadata": {},
   "outputs": [],
   "source": [
    "class ConvNet(nn.Module):\n",
    "    def __init__(self):\n",
    "        super(ConvNet, self).__init__()\n",
    "        # This is the constructor method that initializes the ConvNet class. The super function calls the constructor of the parent class (nn.Module).\n",
    "        self.conv1 = nn.Conv2d(3, 6, 5)\n",
    "        self.pool = nn.MaxPool2d(2, 2)\n",
    "        self.conv2 = nn.Conv2d(6, 16, 5)\n",
    "        self.fc1 = nn.Linear(16 * 5 * 5, 120)\n",
    "        self.fc2 = nn.Linear(120, 84)\n",
    "        self.fc3 = nn.Linear(84, 10)\n",
    "        # fc1, fc2, and fc3: Fully connected (dense) layers with the specified input and output dimensions.\n",
    "\n",
    "    def forward(self, x):\n",
    "        # -> n, 3, 32, 32\n",
    "        x = self.pool(F.relu(self.conv1(x)))  # -> n, 6, 14, 14\n",
    "        x = self.pool(F.relu(self.conv2(x)))  # -> n, 16, 5, 5\n",
    "        x = x.view(-1, 16 * 5 * 5)            # -> n, 400\n",
    "        x = F.relu(self.fc1(x))               # -> n, 120\n",
    "        x = F.relu(self.fc2(x))               # -> n, 84\n",
    "        x = self.fc3(x)                       # -> n, 10\n",
    "        return x\n"
   ]
  },
  {
   "cell_type": "code",
   "execution_count": null,
   "metadata": {},
   "outputs": [],
   "source": [
    "# x = self.pool(F.relu(self.conv1(x)))\n",
    "\n",
    "# self.conv1(x): This applies the first convolutional layer (self.conv1) to the input data x.\n",
    "# F.relu(): Applies the Rectified Linear Unit (ReLU) activation function, which introduces non-linearity to the output of the convolutional layer.\n",
    "# self.pool(): Applies a max-pooling operation to the output of the ReLU activation, downsampling the feature maps and reducing their spatial dimensions.\n",
    "# The comment # -> n, 6, 14, 14 indicates the expected output shape of this step:\n",
    "# n: Batch size.\n",
    "# 6: Number of output channels from the first convolutional layer.\n",
    "# 14, 14: Spatial dimensions of the feature maps after convolution and pooling.\n",
    "# x = self.pool(F.relu(self.conv2(x)))\n",
    "\n",
    "# Similar to the first step, this applies the second convolutional layer (self.conv2), ReLU activation, and max-pooling.\n",
    "# The comment # -> n, 16, 5, 5 indicates the expected output shape after these operations.\n",
    "# x = x.view(-1, 16 * 5 * 5)\n",
    "\n",
    "# This line reshapes the output tensor into a 1D vector.\n",
    "# -1: This tells PyTorch to automatically infer the size of the first dimension (batch size) based on the other dimensions.\n",
    "# This step is necessary to prepare the data for the subsequent fully connected layers, which expect a 1D input.\n",
    "# x = F.relu(self.fc1(x))\n",
    "\n",
    "# This applies the first fully connected layer (self.fc1) to the reshaped input.\n",
    "# F.relu() introduces non-linearity to the output of the fully connected layer.\n",
    "# x = F.relu(self.fc2(x))\n",
    "\n",
    "# This applies the second fully connected layer (self.fc2) and applies ReLU activation.\n",
    "# x = self.fc3(x)\n",
    "\n",
    "# This applies the final fully connected layer (self.fc3), which typically produces the final output of the network. In this case, it likely produces the logits for a classification task.\n",
    "# return x\n",
    "\n",
    "# The output of the final layer (x) is returned by the forward function."
   ]
  },
  {
   "cell_type": "code",
   "execution_count": 17,
   "metadata": {},
   "outputs": [],
   "source": [
    "model = ConvNet().to(device)"
   ]
  },
  {
   "cell_type": "code",
   "execution_count": null,
   "metadata": {},
   "outputs": [],
   "source": [
    "# This line defines the loss function, also known as the criterion, as the Cross-Entropy Loss function. This is a common \n",
    "# loss function used for classification problems, where the goal is to predict one of multiple classes."
   ]
  },
  {
   "cell_type": "code",
   "execution_count": 18,
   "metadata": {},
   "outputs": [],
   "source": [
    "criterion = nn.CrossEntropyLoss()\n",
    "optimizer = torch.optim.SGD(model.parameters(), lr=learning_rate)\n"
   ]
  },
  {
   "cell_type": "code",
   "execution_count": null,
   "metadata": {},
   "outputs": [],
   "source": [
    "\n",
    "# This code defines the loss function and optimizer for training a neural network in PyTorch:\n",
    "# Loss Function (Criterion)\n",
    "# Python\n",
    "# criterion = nn.CrossEntropyLoss()\n",
    "# This line defines the loss function, also known as the criterion, as the Cross-Entropy Loss function. This is a common loss function used for classification problems, where the goal is to predict one of multiple classes.\n",
    "# Optimizer\n",
    "# Python\n",
    "# optimizer = torch.optim.SGD(model.parameters(), lr=learning_rate)\n",
    "# This line defines the optimizer as Stochastic Gradient Descent (SGD) with a learning rate of learning_rate. The optimizer is responsible for updating the model's parameters to minimize the loss.\n",
    "# Parameters:\n",
    "# model.parameters(): This specifies the model's parameters that will be updated by the optimizer.\n",
    "# lr=learning_rate: This specifies the learning rate, which controls how quickly the optimizer updates the model's parameters."
   ]
  },
  {
   "cell_type": "code",
   "execution_count": 19,
   "metadata": {},
   "outputs": [],
   "source": [
    "n_total_steps = len(train_loader)"
   ]
  },
  {
   "cell_type": "code",
   "execution_count": null,
   "metadata": {},
   "outputs": [],
   "source": [
    "# Forward pass: The input data is passed through the model to produce output.\n",
    "# Loss calculation: The loss is calculated by comparing the model's output to the true labels using the Cross-Entropy Loss function.\n",
    "# Backward pass: The gradients of the loss with respect to the model's parameters are computed using backpropagation.\n",
    "# Optimization: The optimizer updates the model's parameters based on the gradients and the learning rate."
   ]
  },
  {
   "cell_type": "markdown",
   "metadata": {},
   "source": [
    "train"
   ]
  },
  {
   "cell_type": "code",
   "execution_count": 20,
   "metadata": {},
   "outputs": [
    {
     "name": "stdout",
     "output_type": "stream",
     "text": [
      "Epoch [1/5], Step [2000/12500], Loss: 2.3404\n",
      "Epoch [1/5], Step [4000/12500], Loss: 2.2839\n",
      "Epoch [1/5], Step [6000/12500], Loss: 2.2946\n",
      "Epoch [1/5], Step [8000/12500], Loss: 2.2921\n",
      "Epoch [1/5], Step [10000/12500], Loss: 2.2197\n",
      "Epoch [1/5], Step [12000/12500], Loss: 1.8895\n",
      "Epoch [2/5], Step [2000/12500], Loss: 1.8026\n",
      "Epoch [2/5], Step [4000/12500], Loss: 2.1959\n",
      "Epoch [2/5], Step [6000/12500], Loss: 2.3158\n",
      "Epoch [2/5], Step [8000/12500], Loss: 2.1100\n",
      "Epoch [2/5], Step [10000/12500], Loss: 1.6210\n",
      "Epoch [2/5], Step [12000/12500], Loss: 1.9028\n",
      "Epoch [3/5], Step [2000/12500], Loss: 1.2923\n",
      "Epoch [3/5], Step [4000/12500], Loss: 1.3227\n",
      "Epoch [3/5], Step [6000/12500], Loss: 1.6681\n",
      "Epoch [3/5], Step [8000/12500], Loss: 2.4345\n",
      "Epoch [3/5], Step [10000/12500], Loss: 1.6244\n",
      "Epoch [3/5], Step [12000/12500], Loss: 1.8034\n",
      "Epoch [4/5], Step [2000/12500], Loss: 1.8080\n",
      "Epoch [4/5], Step [4000/12500], Loss: 1.9101\n",
      "Epoch [4/5], Step [6000/12500], Loss: 1.2704\n",
      "Epoch [4/5], Step [8000/12500], Loss: 2.0343\n",
      "Epoch [4/5], Step [10000/12500], Loss: 1.2457\n",
      "Epoch [4/5], Step [12000/12500], Loss: 1.9224\n",
      "Epoch [5/5], Step [2000/12500], Loss: 1.0802\n",
      "Epoch [5/5], Step [4000/12500], Loss: 0.6676\n",
      "Epoch [5/5], Step [6000/12500], Loss: 1.1265\n",
      "Epoch [5/5], Step [8000/12500], Loss: 0.8901\n",
      "Epoch [5/5], Step [10000/12500], Loss: 1.8739\n",
      "Epoch [5/5], Step [12000/12500], Loss: 1.2383\n"
     ]
    }
   ],
   "source": [
    "for epoch in range(num_epochs): # number of ite\n",
    "    for i, (images, labels) in enumerate(train_loader): # step of optimization\n",
    "        # origin shape: [4, 3, 32, 32] = 4, 3, 1024\n",
    "        # input_layer: 3 input channels, 6 output channels, 5 kernel size\n",
    "        images = images.to(device)\n",
    "        labels = labels.to(device)\n",
    "\n",
    "        # Forward pass\n",
    "        outputs = model(images) # imput images batch of 4 images\n",
    "        loss = criterion(outputs, labels)\n",
    "\n",
    "        # Backward and optimize\n",
    "        optimizer.zero_grad()\n",
    "        loss.backward()\n",
    "        optimizer.step()\n",
    "        # optimizer.zero_grad(): Zeroes the gradients of the optimizer.\n",
    "        # loss.backward(): Computes the gradients of the loss with respect to the model's parameters using backpropagation.\n",
    "        # optimizer.step(): Updates the model's parameters based on the gradients and the optimizer's hyperparameters.\n",
    "\n",
    "        if (i+1) % 2000 == 0:\n",
    "            print (f'Epoch [{epoch+1}/{num_epochs}], Step [{i+1}/{n_total_steps}], Loss: {loss.item():.4f}')\n"
   ]
  },
  {
   "cell_type": "code",
   "execution_count": null,
   "metadata": {},
   "outputs": [],
   "source": [
    "# After completing all batches in the training data loader, the outer loop iterates to the next epoch.\n",
    "#  This process repeats until the specified number of epochs is reached."
   ]
  },
  {
   "cell_type": "code",
   "execution_count": 21,
   "metadata": {},
   "outputs": [
    {
     "name": "stdout",
     "output_type": "stream",
     "text": [
      "Finished Training\n"
     ]
    }
   ],
   "source": [
    "print('Finished Training')\n",
    "PATH = './cnn.pth'\n",
    "torch.save(model.state_dict(), PATH)\n",
    "# The model.state_dict() method returns a dictionary containing the model's learnable parameters, such as weights and \n",
    "# biases. This dictionary is then saved to the file using torch.save()."
   ]
  },
  {
   "cell_type": "code",
   "execution_count": 1,
   "metadata": {},
   "outputs": [],
   "source": [
    "import torch"
   ]
  },
  {
   "cell_type": "code",
   "execution_count": 2,
   "metadata": {},
   "outputs": [
    {
     "data": {
      "text/plain": [
       "tensor([[-0.3333, -0.3984,  0.5888,  0.9898, -0.0356, -0.3488,  0.6005, -1.0401,\n",
       "         -0.0796, -1.0242],\n",
       "        [-0.7543, -0.8260, -1.4718,  1.2833,  0.6378, -1.2884, -0.7987,  0.3762,\n",
       "          0.1999, -0.1315],\n",
       "        [-0.0375,  0.0763,  0.2462, -0.8445,  0.6383,  0.1953, -0.3823, -0.5321,\n",
       "         -3.0301,  0.7948],\n",
       "        [-0.9970,  0.9803,  0.3229,  0.2767, -0.6912,  0.4869, -0.5164, -0.0518,\n",
       "         -2.7684,  1.1579]])"
      ]
     },
     "execution_count": 2,
     "metadata": {},
     "output_type": "execute_result"
    }
   ],
   "source": [
    "torch.randn(4, 10)"
   ]
  },
  {
   "cell_type": "markdown",
   "metadata": {},
   "source": [
    "evaluation"
   ]
  },
  {
   "cell_type": "code",
   "execution_count": 22,
   "metadata": {},
   "outputs": [
    {
     "name": "stdout",
     "output_type": "stream",
     "text": [
      "Accuracy of the network: 50.14 %\n",
      "Accuracy of plane: 50.2 %\n",
      "Accuracy of car: 67.6 %\n",
      "Accuracy of bird: 41.6 %\n",
      "Accuracy of cat: 21.9 %\n",
      "Accuracy of deer: 35.1 %\n",
      "Accuracy of dog: 47.3 %\n",
      "Accuracy of frog: 54.9 %\n",
      "Accuracy of horse: 63.9 %\n",
      "Accuracy of ship: 67.3 %\n",
      "Accuracy of truck: 51.6 %\n"
     ]
    }
   ],
   "source": [
    "with torch.no_grad():\n",
    "    n_correct = 0\n",
    "    n_samples = 0\n",
    "    n_class_correct = [0 for i in range(10)]   # [0,0,0,0,0,0,0,0,0,0,]\n",
    "    n_class_samples = [0 for i in range(10)]    # [0,0,0,0,0,0,0,0,0,0,]\n",
    "    for images, labels in test_loader:\n",
    "        images = images.to(device)\n",
    "        labels = labels.to(device)\n",
    "        outputs = model(images) #   outputs class [probalit value for 10 classes for 4 images] as no of batch size 4\n",
    "        # [[-0.3333, -0.3984,  0.5888,  0.9898, -0.0356, -0.3488,  0.6005, -1.0401,\n",
    "        #  -0.0796, -1.0242],\n",
    "        # [-0.7543, -0.8260, -1.4718,  1.2833,  0.6378, -1.2884, -0.7987,  0.3762,\n",
    "        #   0.1999, -0.1315],\n",
    "        # [-0.0375,  0.0763,  0.2462, -0.8445,  0.6383,  0.1953, -0.3823, -0.5321,\n",
    "        #  -3.0301,  0.7948],\n",
    "        # [-0.9970,  0.9803,  0.3229,  0.2767, -0.6912,  0.4869, -0.5164, -0.0518,\n",
    "        #  -2.7684,  1.1579]])\n",
    "        # max returns (value ,index)\n",
    "        _, predicted = torch.max(outputs, 1)  # Finds the [maximum probablity value along the dimension 1 (columns) for each sample in the batch.]\n",
    "        n_samples += labels.size(0)\n",
    "        n_correct += (predicted == labels).sum().item()\n",
    "        \n",
    "        for i in range(batch_size):\n",
    "            label = labels[i]\n",
    "            pred = predicted[i]\n",
    "            if (label == pred):\n",
    "                n_class_correct[label] += 1 # [4,7,2,0,5,4,7,2,6,2]\n",
    "            n_class_samples[label] += 1     # [12,34,56,32,56,32,67,23,45,23]\n",
    "\n",
    "    acc = 100.0 * n_correct / n_samples\n",
    "    print(f'Accuracy of the network: {acc} %')\n",
    "\n",
    "    for i in range(10):\n",
    "        acc = 100.0 * n_class_correct[i] / n_class_samples[i]\n",
    "        print(f'Accuracy of {classes[i]}: {acc} %')\n"
   ]
  },
  {
   "cell_type": "code",
   "execution_count": null,
   "metadata": {},
   "outputs": [],
   "source": [
    "# _, predicted = torch.max(outputs, 1): This line extracts the predicted class labels from the model's output.\n",
    "# torch.max(outputs, 1): Finds the maximum value along the dimension 1 (columns) for each sample in the batch.\n",
    "# _: Discards the maximum values (logits) and keeps only the indices of the maximum values (predicted class labels) in the predicted variable.\n",
    "# n_samples += labels.size(0): Accumulates the total number of samples in the current batch.\n",
    "# n_correct += (predicted == labels).sum().item(): This line calculates the number of correct predictions in the current batch:\n",
    "# predicted == labels: Creates a tensor where each element is True if the corresponding prediction matches the label, False otherwise.\n",
    "# .sum(): Sums the True elements to get the total number of correct predictions in the batch.\n",
    "# .item(): Converts the tensor containing the number of correct predictions to a Python integer.\n",
    "# 6. Class-wise Accuracy:\n",
    "\n",
    "# for i in range(batch_size): This loop iterates over each sample in the current batch.\n",
    "# label = labels[i]: Gets the ground truth label for the current sample.\n",
    "# pred = predicted[i]: Gets the predicted label for the current sample.\n",
    "# if (label == pred): Checks if the prediction is correct.\n",
    "# n_class_correct[label] += 1: If correct, increments the count of correct predictions for the corresponding class in n_class_correct.\n",
    "# n_class_samples[label] += 1: Increments the total number of samples for the corresponding class in n_class_samples."
   ]
  }
 ],
 "metadata": {
  "kernelspec": {
   "display_name": "Python 3",
   "language": "python",
   "name": "python3"
  },
  "language_info": {
   "codemirror_mode": {
    "name": "ipython",
    "version": 3
   },
   "file_extension": ".py",
   "mimetype": "text/x-python",
   "name": "python",
   "nbconvert_exporter": "python",
   "pygments_lexer": "ipython3",
   "version": "3.11.0"
  }
 },
 "nbformat": 4,
 "nbformat_minor": 2
}
